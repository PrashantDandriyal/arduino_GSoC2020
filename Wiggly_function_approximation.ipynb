{
  "nbformat": 4,
  "nbformat_minor": 0,
  "metadata": {
    "colab": {
      "name": "Sine and Wiggly function approximation Tensorflow",
      "provenance": [],
      "collapsed_sections": []
    },
    "kernelspec": {
      "name": "python3",
      "display_name": "Python 3"
    },
    "accelerator": "GPU"
  },
  "cells": [
    {
      "cell_type": "markdown",
      "metadata": {
        "id": "rWZ8TizIy-2y",
        "colab_type": "text"
      },
      "source": [
        "#Demonstration of Function Approximation \n",
        "\n",
        "Author: Prashant Dandriyal"
      ]
    },
    {
      "cell_type": "code",
      "metadata": {
        "id": "SVPxSuY1TTCl",
        "colab_type": "code",
        "outputId": "c4d5926d-311d-4bb1-83fb-d351e468b409",
        "colab": {
          "base_uri": "https://localhost:8080/",
          "height": 63
        }
      },
      "source": [
        "from __future__ import absolute_import, division, print_function, unicode_literals\n",
        "import tensorflow as tf\n",
        "\n",
        "import numpy as np\n"
      ],
      "execution_count": 0,
      "outputs": [
        {
          "output_type": "display_data",
          "data": {
            "text/html": [
              "<p style=\"color: red;\">\n",
              "The default version of TensorFlow in Colab will soon switch to TensorFlow 2.x.<br>\n",
              "We recommend you <a href=\"https://www.tensorflow.org/guide/migrate\" target=\"_blank\">upgrade</a> now \n",
              "or ensure your notebook will continue to use TensorFlow 1.x via the <code>%tensorflow_version 1.x</code> magic:\n",
              "<a href=\"https://colab.research.google.com/notebooks/tensorflow_version.ipynb\" target=\"_blank\">more info</a>.</p>\n"
            ],
            "text/plain": [
              "<IPython.core.display.HTML object>"
            ]
          },
          "metadata": {
            "tags": []
          }
        }
      ]
    },
    {
      "cell_type": "code",
      "metadata": {
        "id": "um5aZrPjTVeg",
        "colab_type": "code",
        "colab": {}
      },
      "source": [
        "import logging\n",
        "logger = tf.get_logger()\n",
        "logger.setLevel(logging.ERROR)"
      ],
      "execution_count": 0,
      "outputs": []
    },
    {
      "cell_type": "code",
      "metadata": {
        "id": "5KdUFqEFboJy",
        "colab_type": "code",
        "outputId": "ae706e13-ff6b-481b-cdf1-ed8960145ea3",
        "colab": {
          "base_uri": "https://localhost:8080/",
          "height": 282
        }
      },
      "source": [
        "Train_Set_Size = 200\n",
        "PI = 3.141592653589793238463\n",
        "import numpy as np\n",
        "import math\n",
        "import matplotlib.pyplot as plt\n",
        "\n",
        "#X = np.array(Test_Examples)\n",
        "inputx = list()\n",
        "outputy = list()\n",
        "for i in range(Train_Set_Size):\n",
        "  p = i * 2 * PI / Train_Set_Size\n",
        "  inputx.append(p)\n",
        "  outputy.append(0.2+0.4*pow(p, 2)+0.3*p*math.sin(15*p)+0.05*math.cos(50*p))\n",
        "\n",
        "#Plot and check the training data\n",
        "inputx = np.asarray(inputx,  dtype=float)\n",
        "outputy = np.asarray(outputy,  dtype=float)\n",
        "plt.plot(inputx,outputy)"
      ],
      "execution_count": 0,
      "outputs": [
        {
          "output_type": "execute_result",
          "data": {
            "text/plain": [
              "[<matplotlib.lines.Line2D at 0x7f762b16f4e0>]"
            ]
          },
          "metadata": {
            "tags": []
          },
          "execution_count": 3
        },
        {
          "output_type": "display_data",
          "data": {
            "image/png": "[encoded data removed]",
            "text/plain": [
              "<Figure size 432x288 with 1 Axes>"
            ]
          },
          "metadata": {
            "tags": []
          }
        }
      ]
    },
    {
      "cell_type": "code",
      "metadata": {
        "id": "9EE_djgHTbeT",
        "colab_type": "code",
        "outputId": "610bec51-2611-4552-e1e0-16743c6c5e89",
        "colab": {
          "base_uri": "https://localhost:8080/",
          "height": 34
        }
      },
      "source": [
        "hidden1 = tf.keras.layers.Dense(units=20, input_shape=[1],activation='tanh')\n",
        "hidden2 = tf.keras.layers.Dense(units=30, activation='tanh')\n",
        "hidden3 = tf.keras.layers.Dense(units=80, activation='tanh')\n",
        "output = tf.keras.layers.Dense(units=1)\n",
        "\n",
        "model = tf.keras.Sequential([hidden1,hidden2, hidden3, output])\n",
        "model.compile(loss='mean_squared_error', optimizer=tf.keras.optimizers.Adam(0.01))\n",
        "history = model.fit(inputx,outputy, epochs=2000, verbose=False)\n",
        "print(\"Finished training the model\")\n"
      ],
      "execution_count": 0,
      "outputs": [
        {
          "output_type": "stream",
          "text": [
            "Finished training the model\n"
          ],
          "name": "stdout"
        }
      ]
    },
    {
      "cell_type": "code",
      "metadata": {
        "id": "pfRoXxemuPYn",
        "colab_type": "code",
        "outputId": "50fb562e-3d1c-4bf7-e6a3-47668bc8d3cf",
        "colab": {
          "base_uri": "https://localhost:8080/",
          "height": 296
        }
      },
      "source": [
        "import matplotlib.pyplot as plt\n",
        "plt.xlabel('Epoch Number')\n",
        "plt.ylabel(\"Loss Magnitude\")\n",
        "plt.plot(history.history['loss'])"
      ],
      "execution_count": 0,
      "outputs": [
        {
          "output_type": "execute_result",
          "data": {
            "text/plain": [
              "[<matplotlib.lines.Line2D at 0x7f75b4b9cf98>]"
            ]
          },
          "metadata": {
            "tags": []
          },
          "execution_count": 42
        },
        {
          "output_type": "display_data",
          "data": {
            "image/png": "[encoded data removed]",
            "text/plain": [
              "<Figure size 432x288 with 1 Axes>"
            ]
          },
          "metadata": {
            "tags": []
          }
        }
      ]
    },
    {
      "cell_type": "code",
      "metadata": {
        "id": "m_Kc68gJirlW",
        "colab_type": "code",
        "outputId": "57c40bd8-6fa2-4ed0-cca5-6d7f15595e30",
        "colab": {
          "base_uri": "https://localhost:8080/",
          "height": 282
        }
      },
      "source": [
        "inputxx = []\n",
        "y1 = []\n",
        "y2 = []\n",
        "for i in range (200):\n",
        "    p = i * 2 * PI / 200\n",
        "    inputxx.append(p)\n",
        "    #outputy.append(0.2+0.4*pow(p, 2)+0.3*p*math.sin(15*p)+0.05*math.cos(50*p))\n",
        "    y1.append(0.2+0.4*pow(p, 2)+0.3*p*math.sin(15*p)+0.05*math.cos(50*p))\n",
        "    #print(str(math.sin(i * 2 * PI / 1000) ))\n",
        "    y2.append(model.predict([p]))\n",
        "    \n",
        "inputxx = np.asarray(inputxx)\n",
        "y2 = np.asarray(y2).reshape(200,1)\n",
        "\n",
        "y1 = np.asarray(y1)\n",
        "plt.plot(inputxx, y2)\n",
        "plt.plot(inputxx, y1)\n",
        "#print(model.predict(test))"
      ],
      "execution_count": 0,
      "outputs": [
        {
          "output_type": "execute_result",
          "data": {
            "text/plain": [
              "[<matplotlib.lines.Line2D at 0x7f75b498d358>]"
            ]
          },
          "metadata": {
            "tags": []
          },
          "execution_count": 43
        },
        {
          "output_type": "display_data",
          "data": {
            "image/png": "[encoded data removed]",
            "text/plain": [
              "<Figure size 432x288 with 1 Axes>"
            ]
          },
          "metadata": {
            "tags": []
          }
        }
      ]
    },
    {
      "cell_type": "code",
      "metadata": {
        "id": "CuYB9UVAGRB3",
        "colab_type": "code",
        "outputId": "289ac346-a2b7-4b5b-de10-869ec401447a",
        "colab": {
          "base_uri": "https://localhost:8080/",
          "height": 255
        }
      },
      "source": [
        "print(\"These are the layer variables: {}\".format(output.get_weights()))"
      ],
      "execution_count": 0,
      "outputs": [
        {
          "output_type": "stream",
          "text": [
            "These are the layer variables: [array([[-0.550629  ],\n",
            "       [ 1.5789064 ],\n",
            "       [ 2.0272539 ],\n",
            "       [ 0.46140298],\n",
            "       [ 1.4038764 ],\n",
            "       [ 2.0271256 ],\n",
            "       [ 1.8142109 ],\n",
            "       [ 2.9432864 ],\n",
            "       [-1.8870611 ],\n",
            "       [-1.5701768 ],\n",
            "       [-0.5666678 ],\n",
            "       [-0.6745201 ],\n",
            "       [-2.1882281 ],\n",
            "       [ 1.441716  ]], dtype=float32), array([1.4383371], dtype=float32)]\n"
          ],
          "name": "stdout"
        }
      ]
    }
  ]
}